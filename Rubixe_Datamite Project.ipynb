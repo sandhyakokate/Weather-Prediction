{
 "cells": [
  {
   "cell_type": "code",
   "execution_count": 4,
   "id": "1ec5b17d",
   "metadata": {},
   "outputs": [],
   "source": [
    "import pandas as pd\n",
    "import numpy as np\n",
    "import matplotlib.pyplot as plt\n",
    "import seaborn as sns\n",
    "data= pd.read_csv(r'C:\\Users\\Sayali Desk\\OneDrive\\Desktop\\WeatherData.csv')\n"
   ]
  },
  {
   "cell_type": "code",
   "execution_count": 1,
   "id": "7bb7ad67",
   "metadata": {},
   "outputs": [
    {
     "ename": "NameError",
     "evalue": "name 'data' is not defined",
     "output_type": "error",
     "traceback": [
      "\u001b[1;31m---------------------------------------------------------------------------\u001b[0m",
      "\u001b[1;31mNameError\u001b[0m                                 Traceback (most recent call last)",
      "\u001b[1;32m<ipython-input-1-c5d84736ba45>\u001b[0m in \u001b[0;36m<module>\u001b[1;34m\u001b[0m\n\u001b[1;32m----> 1\u001b[1;33m \u001b[0mdata\u001b[0m\u001b[1;33m\u001b[0m\u001b[1;33m\u001b[0m\u001b[0m\n\u001b[0m",
      "\u001b[1;31mNameError\u001b[0m: name 'data' is not defined"
     ]
    }
   ],
   "source": [
    "data\n"
   ]
  },
  {
   "cell_type": "code",
   "execution_count": 12,
   "id": "f1ac0ea1",
   "metadata": {},
   "outputs": [
    {
     "data": {
      "text/plain": [
       "(3192, 9)"
      ]
     },
     "execution_count": 12,
     "metadata": {},
     "output_type": "execute_result"
    }
   ],
   "source": [
    "data.shape"
   ]
  },
  {
   "cell_type": "code",
   "execution_count": 2,
   "id": "dbbf61c8",
   "metadata": {},
   "outputs": [
    {
     "ename": "NameError",
     "evalue": "name 'data' is not defined",
     "output_type": "error",
     "traceback": [
      "\u001b[1;31m---------------------------------------------------------------------------\u001b[0m",
      "\u001b[1;31mNameError\u001b[0m                                 Traceback (most recent call last)",
      "\u001b[1;32m<ipython-input-2-c3d483a1c074>\u001b[0m in \u001b[0;36m<module>\u001b[1;34m\u001b[0m\n\u001b[1;32m----> 1\u001b[1;33m \u001b[0mdata\u001b[0m\u001b[1;33m.\u001b[0m\u001b[0mcolumns\u001b[0m\u001b[1;33m\u001b[0m\u001b[1;33m\u001b[0m\u001b[0m\n\u001b[0m",
      "\u001b[1;31mNameError\u001b[0m: name 'data' is not defined"
     ]
    }
   ],
   "source": [
    "data.columns"
   ]
  },
  {
   "cell_type": "code",
   "execution_count": 3,
   "id": "10fe2e99",
   "metadata": {},
   "outputs": [
    {
     "ename": "NameError",
     "evalue": "name 'data' is not defined",
     "output_type": "error",
     "traceback": [
      "\u001b[1;31m---------------------------------------------------------------------------\u001b[0m",
      "\u001b[1;31mNameError\u001b[0m                                 Traceback (most recent call last)",
      "\u001b[1;32m<ipython-input-3-6208d269f320>\u001b[0m in \u001b[0;36m<module>\u001b[1;34m\u001b[0m\n\u001b[1;32m----> 1\u001b[1;33m \u001b[0mdata\u001b[0m\u001b[1;33m.\u001b[0m\u001b[0minfo\u001b[0m\u001b[1;33m(\u001b[0m\u001b[1;33m)\u001b[0m\u001b[1;33m\u001b[0m\u001b[1;33m\u001b[0m\u001b[0m\n\u001b[0m",
      "\u001b[1;31mNameError\u001b[0m: name 'data' is not defined"
     ]
    }
   ],
   "source": [
    "data.info()"
   ]
  },
  {
   "cell_type": "code",
   "execution_count": 16,
   "id": "3ba54848",
   "metadata": {},
   "outputs": [
    {
     "data": {
      "text/plain": [
       "dt                                              0\n",
       "LandAverageTemperature                         12\n",
       "LandAverageTemperatureUncertainty              12\n",
       "LandMaxTemperature                           1200\n",
       "LandMaxTemperatureUncertainty                1200\n",
       "LandMinTemperature                           1200\n",
       "LandMinTemperatureUncertainty                1200\n",
       "LandAndOceanAverageTemperature               1200\n",
       "LandAndOceanAverageTemperatureUncertainty    1200\n",
       "dtype: int64"
      ]
     },
     "execution_count": 16,
     "metadata": {},
     "output_type": "execute_result"
    }
   ],
   "source": [
    "data.isnull().sum()"
   ]
  },
  {
   "cell_type": "code",
   "execution_count": 64,
   "id": "08a93a7b",
   "metadata": {},
   "outputs": [
    {
     "data": {
      "image/png": "[encoded data removed]",
      "text/plain": [
       "<Figure size 432x288 with 2 Axes>"
      ]
     },
     "metadata": {
      "needs_background": "light"
     },
     "output_type": "display_data"
    }
   ],
   "source": [
    "# Quick Correlatin and Visualization\n",
    "corrMatrix=data.corr()\n",
    "sns.heatmap(corrMatrix,annot=True)\n",
    "plt.show()"
   ]
  },
  {
   "cell_type": "code",
   "execution_count": 17,
   "id": "3c6041f3",
   "metadata": {},
   "outputs": [],
   "source": [
    "df=data.copy()\n",
    "    \n",
    "# Drop high cardinality columns\n",
    "df=df.drop(columns=['LandAverageTemperatureUncertainty','LandMaxTemperatureUncertainty','LandMinTemperatureUncertainty','LandAndOceanAverageTemperatureUncertainty'],axis=1)"
   ]
  },
  {
   "cell_type": "code",
   "execution_count": 18,
   "id": "81e057f6",
   "metadata": {},
   "outputs": [],
   "source": [
    "# convert tempreture \n",
    "def conTem(x):\n",
    "    x=(x*1.8)+32\n",
    "    return float(x)\n",
    "\n",
    "#Apply to all columns\n",
    "df['LandAverageTemperature']=df['LandAverageTemperature'].apply(conTem)\n",
    "df['LandMaxTemperature']=df['LandMaxTemperature'].apply(conTem)\n",
    "df['LandMinTemperature']=df['LandMinTemperature'].apply(conTem)\n",
    "df['LandAndOceanAverageTemperature']=df['LandAndOceanAverageTemperature'].apply(conTem)\n"
   ]
  },
  {
   "cell_type": "code",
   "execution_count": 19,
   "id": "f46ebf1c",
   "metadata": {},
   "outputs": [
    {
     "data": {
      "text/html": [
       "<div>\n",
       "<style scoped>\n",
       "    .dataframe tbody tr th:only-of-type {\n",
       "        vertical-align: middle;\n",
       "    }\n",
       "\n",
       "    .dataframe tbody tr th {\n",
       "        vertical-align: top;\n",
       "    }\n",
       "\n",
       "    .dataframe thead th {\n",
       "        text-align: right;\n",
       "    }\n",
       "</style>\n",
       "<table border=\"1\" class=\"dataframe\">\n",
       "  <thead>\n",
       "    <tr style=\"text-align: right;\">\n",
       "      <th></th>\n",
       "      <th>LandAverageTemperature</th>\n",
       "      <th>LandMaxTemperature</th>\n",
       "      <th>LandMinTemperature</th>\n",
       "      <th>LandAndOceanAverageTemperature</th>\n",
       "    </tr>\n",
       "    <tr>\n",
       "      <th>Year</th>\n",
       "      <th></th>\n",
       "      <th></th>\n",
       "      <th></th>\n",
       "      <th></th>\n",
       "    </tr>\n",
       "  </thead>\n",
       "  <tbody>\n",
       "    <tr>\n",
       "      <th>1850</th>\n",
       "      <td>33.3482</td>\n",
       "      <td>46.8356</td>\n",
       "      <td>26.2292</td>\n",
       "      <td>55.0994</td>\n",
       "    </tr>\n",
       "    <tr>\n",
       "      <th>1850</th>\n",
       "      <td>37.5278</td>\n",
       "      <td>49.9460</td>\n",
       "      <td>27.8762</td>\n",
       "      <td>56.4584</td>\n",
       "    </tr>\n",
       "    <tr>\n",
       "      <th>1850</th>\n",
       "      <td>40.9172</td>\n",
       "      <td>50.6246</td>\n",
       "      <td>28.5710</td>\n",
       "      <td>57.2774</td>\n",
       "    </tr>\n",
       "    <tr>\n",
       "      <th>1850</th>\n",
       "      <td>44.9906</td>\n",
       "      <td>55.2812</td>\n",
       "      <td>33.8324</td>\n",
       "      <td>58.4006</td>\n",
       "    </tr>\n",
       "    <tr>\n",
       "      <th>1850</th>\n",
       "      <td>50.0072</td>\n",
       "      <td>60.1790</td>\n",
       "      <td>38.8598</td>\n",
       "      <td>59.9126</td>\n",
       "    </tr>\n",
       "    <tr>\n",
       "      <th>...</th>\n",
       "      <td>...</td>\n",
       "      <td>...</td>\n",
       "      <td>...</td>\n",
       "      <td>...</td>\n",
       "    </tr>\n",
       "    <tr>\n",
       "      <th>2015</th>\n",
       "      <td>58.5590</td>\n",
       "      <td>69.2582</td>\n",
       "      <td>48.2090</td>\n",
       "      <td>63.6602</td>\n",
       "    </tr>\n",
       "    <tr>\n",
       "      <th>2015</th>\n",
       "      <td>55.3982</td>\n",
       "      <td>65.9210</td>\n",
       "      <td>44.9582</td>\n",
       "      <td>62.6882</td>\n",
       "    </tr>\n",
       "    <tr>\n",
       "      <th>2015</th>\n",
       "      <td>51.4418</td>\n",
       "      <td>61.6100</td>\n",
       "      <td>41.4176</td>\n",
       "      <td>61.3220</td>\n",
       "    </tr>\n",
       "    <tr>\n",
       "      <th>2015</th>\n",
       "      <td>45.3794</td>\n",
       "      <td>55.2056</td>\n",
       "      <td>35.8826</td>\n",
       "      <td>59.4536</td>\n",
       "    </tr>\n",
       "    <tr>\n",
       "      <th>2015</th>\n",
       "      <td>41.9324</td>\n",
       "      <td>51.3050</td>\n",
       "      <td>32.5166</td>\n",
       "      <td>58.5932</td>\n",
       "    </tr>\n",
       "  </tbody>\n",
       "</table>\n",
       "<p>1992 rows × 4 columns</p>\n",
       "</div>"
      ],
      "text/plain": [
       "      LandAverageTemperature  LandMaxTemperature  LandMinTemperature  \\\n",
       "Year                                                                   \n",
       "1850                 33.3482             46.8356             26.2292   \n",
       "1850                 37.5278             49.9460             27.8762   \n",
       "1850                 40.9172             50.6246             28.5710   \n",
       "1850                 44.9906             55.2812             33.8324   \n",
       "1850                 50.0072             60.1790             38.8598   \n",
       "...                      ...                 ...                 ...   \n",
       "2015                 58.5590             69.2582             48.2090   \n",
       "2015                 55.3982             65.9210             44.9582   \n",
       "2015                 51.4418             61.6100             41.4176   \n",
       "2015                 45.3794             55.2056             35.8826   \n",
       "2015                 41.9324             51.3050             32.5166   \n",
       "\n",
       "      LandAndOceanAverageTemperature  \n",
       "Year                                  \n",
       "1850                         55.0994  \n",
       "1850                         56.4584  \n",
       "1850                         57.2774  \n",
       "1850                         58.4006  \n",
       "1850                         59.9126  \n",
       "...                              ...  \n",
       "2015                         63.6602  \n",
       "2015                         62.6882  \n",
       "2015                         61.3220  \n",
       "2015                         59.4536  \n",
       "2015                         58.5932  \n",
       "\n",
       "[1992 rows x 4 columns]"
      ]
     },
     "execution_count": 19,
     "metadata": {},
     "output_type": "execute_result"
    }
   ],
   "source": [
    "# convert column dt to datetime\n",
    "df[\"dt\"]=pd.to_datetime(df[\"dt\"])\n",
    "df[\"Month\"]=df[\"dt\"].dt.month\n",
    "df[\"Year\"]=df[\"dt\"].dt.year\n",
    "df=df.drop(\"dt\",axis=1)\n",
    "df=df.drop(\"Month\",axis=1)\n",
    "df=df[df.Year>=1850]\n",
    "\n",
    "# Set index to Year column\n",
    "df=df.set_index(['Year'])\n",
    "\n",
    "# Drop NaN values\n",
    "df=df.dropna()\n",
    "df"
   ]
  },
  {
   "cell_type": "code",
   "execution_count": 20,
   "id": "14008a8b",
   "metadata": {},
   "outputs": [],
   "source": [
    "data=df.copy()"
   ]
  },
  {
   "cell_type": "code",
   "execution_count": 21,
   "id": "2bb4b159",
   "metadata": {},
   "outputs": [
    {
     "data": {
      "text/html": [
       "<div>\n",
       "<style scoped>\n",
       "    .dataframe tbody tr th:only-of-type {\n",
       "        vertical-align: middle;\n",
       "    }\n",
       "\n",
       "    .dataframe tbody tr th {\n",
       "        vertical-align: top;\n",
       "    }\n",
       "\n",
       "    .dataframe thead th {\n",
       "        text-align: right;\n",
       "    }\n",
       "</style>\n",
       "<table border=\"1\" class=\"dataframe\">\n",
       "  <thead>\n",
       "    <tr style=\"text-align: right;\">\n",
       "      <th></th>\n",
       "      <th>LandAverageTemperature</th>\n",
       "      <th>LandMaxTemperature</th>\n",
       "      <th>LandMinTemperature</th>\n",
       "      <th>LandAndOceanAverageTemperature</th>\n",
       "    </tr>\n",
       "    <tr>\n",
       "      <th>Year</th>\n",
       "      <th></th>\n",
       "      <th></th>\n",
       "      <th></th>\n",
       "      <th></th>\n",
       "    </tr>\n",
       "  </thead>\n",
       "  <tbody>\n",
       "    <tr>\n",
       "      <th>1850</th>\n",
       "      <td>33.3482</td>\n",
       "      <td>46.8356</td>\n",
       "      <td>26.2292</td>\n",
       "      <td>55.0994</td>\n",
       "    </tr>\n",
       "    <tr>\n",
       "      <th>1850</th>\n",
       "      <td>37.5278</td>\n",
       "      <td>49.9460</td>\n",
       "      <td>27.8762</td>\n",
       "      <td>56.4584</td>\n",
       "    </tr>\n",
       "    <tr>\n",
       "      <th>1850</th>\n",
       "      <td>40.9172</td>\n",
       "      <td>50.6246</td>\n",
       "      <td>28.5710</td>\n",
       "      <td>57.2774</td>\n",
       "    </tr>\n",
       "    <tr>\n",
       "      <th>1850</th>\n",
       "      <td>44.9906</td>\n",
       "      <td>55.2812</td>\n",
       "      <td>33.8324</td>\n",
       "      <td>58.4006</td>\n",
       "    </tr>\n",
       "    <tr>\n",
       "      <th>1850</th>\n",
       "      <td>50.0072</td>\n",
       "      <td>60.1790</td>\n",
       "      <td>38.8598</td>\n",
       "      <td>59.9126</td>\n",
       "    </tr>\n",
       "  </tbody>\n",
       "</table>\n",
       "</div>"
      ],
      "text/plain": [
       "      LandAverageTemperature  LandMaxTemperature  LandMinTemperature  \\\n",
       "Year                                                                   \n",
       "1850                 33.3482             46.8356             26.2292   \n",
       "1850                 37.5278             49.9460             27.8762   \n",
       "1850                 40.9172             50.6246             28.5710   \n",
       "1850                 44.9906             55.2812             33.8324   \n",
       "1850                 50.0072             60.1790             38.8598   \n",
       "\n",
       "      LandAndOceanAverageTemperature  \n",
       "Year                                  \n",
       "1850                         55.0994  \n",
       "1850                         56.4584  \n",
       "1850                         57.2774  \n",
       "1850                         58.4006  \n",
       "1850                         59.9126  "
      ]
     },
     "execution_count": 21,
     "metadata": {},
     "output_type": "execute_result"
    }
   ],
   "source": [
    "data.head()"
   ]
  },
  {
   "cell_type": "code",
   "execution_count": 22,
   "id": "e042a54f",
   "metadata": {},
   "outputs": [
    {
     "data": {
      "text/html": [
       "<div>\n",
       "<style scoped>\n",
       "    .dataframe tbody tr th:only-of-type {\n",
       "        vertical-align: middle;\n",
       "    }\n",
       "\n",
       "    .dataframe tbody tr th {\n",
       "        vertical-align: top;\n",
       "    }\n",
       "\n",
       "    .dataframe thead th {\n",
       "        text-align: right;\n",
       "    }\n",
       "</style>\n",
       "<table border=\"1\" class=\"dataframe\">\n",
       "  <thead>\n",
       "    <tr style=\"text-align: right;\">\n",
       "      <th></th>\n",
       "      <th>LandAverageTemperature</th>\n",
       "      <th>LandMaxTemperature</th>\n",
       "      <th>LandMinTemperature</th>\n",
       "      <th>LandAndOceanAverageTemperature</th>\n",
       "    </tr>\n",
       "    <tr>\n",
       "      <th>Year</th>\n",
       "      <th></th>\n",
       "      <th></th>\n",
       "      <th></th>\n",
       "      <th></th>\n",
       "    </tr>\n",
       "  </thead>\n",
       "  <tbody>\n",
       "    <tr>\n",
       "      <th>1850</th>\n",
       "      <td>33.3482</td>\n",
       "      <td>46.8356</td>\n",
       "      <td>26.2292</td>\n",
       "      <td>55.0994</td>\n",
       "    </tr>\n",
       "    <tr>\n",
       "      <th>1850</th>\n",
       "      <td>37.5278</td>\n",
       "      <td>49.9460</td>\n",
       "      <td>27.8762</td>\n",
       "      <td>56.4584</td>\n",
       "    </tr>\n",
       "    <tr>\n",
       "      <th>1850</th>\n",
       "      <td>40.9172</td>\n",
       "      <td>50.6246</td>\n",
       "      <td>28.5710</td>\n",
       "      <td>57.2774</td>\n",
       "    </tr>\n",
       "    <tr>\n",
       "      <th>1850</th>\n",
       "      <td>44.9906</td>\n",
       "      <td>55.2812</td>\n",
       "      <td>33.8324</td>\n",
       "      <td>58.4006</td>\n",
       "    </tr>\n",
       "    <tr>\n",
       "      <th>1850</th>\n",
       "      <td>50.0072</td>\n",
       "      <td>60.1790</td>\n",
       "      <td>38.8598</td>\n",
       "      <td>59.9126</td>\n",
       "    </tr>\n",
       "    <tr>\n",
       "      <th>...</th>\n",
       "      <td>...</td>\n",
       "      <td>...</td>\n",
       "      <td>...</td>\n",
       "      <td>...</td>\n",
       "    </tr>\n",
       "    <tr>\n",
       "      <th>2015</th>\n",
       "      <td>58.5590</td>\n",
       "      <td>69.2582</td>\n",
       "      <td>48.2090</td>\n",
       "      <td>63.6602</td>\n",
       "    </tr>\n",
       "    <tr>\n",
       "      <th>2015</th>\n",
       "      <td>55.3982</td>\n",
       "      <td>65.9210</td>\n",
       "      <td>44.9582</td>\n",
       "      <td>62.6882</td>\n",
       "    </tr>\n",
       "    <tr>\n",
       "      <th>2015</th>\n",
       "      <td>51.4418</td>\n",
       "      <td>61.6100</td>\n",
       "      <td>41.4176</td>\n",
       "      <td>61.3220</td>\n",
       "    </tr>\n",
       "    <tr>\n",
       "      <th>2015</th>\n",
       "      <td>45.3794</td>\n",
       "      <td>55.2056</td>\n",
       "      <td>35.8826</td>\n",
       "      <td>59.4536</td>\n",
       "    </tr>\n",
       "    <tr>\n",
       "      <th>2015</th>\n",
       "      <td>41.9324</td>\n",
       "      <td>51.3050</td>\n",
       "      <td>32.5166</td>\n",
       "      <td>58.5932</td>\n",
       "    </tr>\n",
       "  </tbody>\n",
       "</table>\n",
       "<p>1992 rows × 4 columns</p>\n",
       "</div>"
      ],
      "text/plain": [
       "      LandAverageTemperature  LandMaxTemperature  LandMinTemperature  \\\n",
       "Year                                                                   \n",
       "1850                 33.3482             46.8356             26.2292   \n",
       "1850                 37.5278             49.9460             27.8762   \n",
       "1850                 40.9172             50.6246             28.5710   \n",
       "1850                 44.9906             55.2812             33.8324   \n",
       "1850                 50.0072             60.1790             38.8598   \n",
       "...                      ...                 ...                 ...   \n",
       "2015                 58.5590             69.2582             48.2090   \n",
       "2015                 55.3982             65.9210             44.9582   \n",
       "2015                 51.4418             61.6100             41.4176   \n",
       "2015                 45.3794             55.2056             35.8826   \n",
       "2015                 41.9324             51.3050             32.5166   \n",
       "\n",
       "      LandAndOceanAverageTemperature  \n",
       "Year                                  \n",
       "1850                         55.0994  \n",
       "1850                         56.4584  \n",
       "1850                         57.2774  \n",
       "1850                         58.4006  \n",
       "1850                         59.9126  \n",
       "...                              ...  \n",
       "2015                         63.6602  \n",
       "2015                         62.6882  \n",
       "2015                         61.3220  \n",
       "2015                         59.4536  \n",
       "2015                         58.5932  \n",
       "\n",
       "[1992 rows x 4 columns]"
      ]
     },
     "execution_count": 22,
     "metadata": {},
     "output_type": "execute_result"
    }
   ],
   "source": [
    "data.fillna(0)"
   ]
  },
  {
   "cell_type": "code",
   "execution_count": 23,
   "id": "f16fe1e6",
   "metadata": {},
   "outputs": [],
   "source": [
    "x=data.drop('LandAndOceanAverageTemperature',axis=1)"
   ]
  },
  {
   "cell_type": "code",
   "execution_count": 24,
   "id": "fea814b7",
   "metadata": {},
   "outputs": [],
   "source": [
    "y=data['LandAndOceanAverageTemperature']"
   ]
  },
  {
   "cell_type": "code",
   "execution_count": 25,
   "id": "9f793120",
   "metadata": {},
   "outputs": [
    {
     "data": {
      "text/plain": [
       "(1992, 3)"
      ]
     },
     "execution_count": 25,
     "metadata": {},
     "output_type": "execute_result"
    }
   ],
   "source": [
    "x.shape"
   ]
  },
  {
   "cell_type": "code",
   "execution_count": 27,
   "id": "007e4155",
   "metadata": {},
   "outputs": [
    {
     "data": {
      "text/html": [
       "<div>\n",
       "<style scoped>\n",
       "    .dataframe tbody tr th:only-of-type {\n",
       "        vertical-align: middle;\n",
       "    }\n",
       "\n",
       "    .dataframe tbody tr th {\n",
       "        vertical-align: top;\n",
       "    }\n",
       "\n",
       "    .dataframe thead th {\n",
       "        text-align: right;\n",
       "    }\n",
       "</style>\n",
       "<table border=\"1\" class=\"dataframe\">\n",
       "  <thead>\n",
       "    <tr style=\"text-align: right;\">\n",
       "      <th></th>\n",
       "      <th>LandAverageTemperature</th>\n",
       "      <th>LandMaxTemperature</th>\n",
       "      <th>LandMinTemperature</th>\n",
       "    </tr>\n",
       "    <tr>\n",
       "      <th>Year</th>\n",
       "      <th></th>\n",
       "      <th></th>\n",
       "      <th></th>\n",
       "    </tr>\n",
       "  </thead>\n",
       "  <tbody>\n",
       "    <tr>\n",
       "      <th>1917</th>\n",
       "      <td>47.3792</td>\n",
       "      <td>57.9668</td>\n",
       "      <td>36.7520</td>\n",
       "    </tr>\n",
       "    <tr>\n",
       "      <th>1894</th>\n",
       "      <td>41.7290</td>\n",
       "      <td>52.1366</td>\n",
       "      <td>31.1162</td>\n",
       "    </tr>\n",
       "    <tr>\n",
       "      <th>1893</th>\n",
       "      <td>42.6236</td>\n",
       "      <td>53.0618</td>\n",
       "      <td>31.7426</td>\n",
       "    </tr>\n",
       "    <tr>\n",
       "      <th>1973</th>\n",
       "      <td>39.0164</td>\n",
       "      <td>49.0928</td>\n",
       "      <td>29.0228</td>\n",
       "    </tr>\n",
       "    <tr>\n",
       "      <th>1948</th>\n",
       "      <td>38.2838</td>\n",
       "      <td>48.1658</td>\n",
       "      <td>28.3460</td>\n",
       "    </tr>\n",
       "    <tr>\n",
       "      <th>...</th>\n",
       "      <td>...</td>\n",
       "      <td>...</td>\n",
       "      <td>...</td>\n",
       "    </tr>\n",
       "    <tr>\n",
       "      <th>1919</th>\n",
       "      <td>56.8148</td>\n",
       "      <td>67.6472</td>\n",
       "      <td>46.1156</td>\n",
       "    </tr>\n",
       "    <tr>\n",
       "      <th>1951</th>\n",
       "      <td>52.5884</td>\n",
       "      <td>63.2678</td>\n",
       "      <td>41.6768</td>\n",
       "    </tr>\n",
       "    <tr>\n",
       "      <th>1987</th>\n",
       "      <td>49.2620</td>\n",
       "      <td>59.2448</td>\n",
       "      <td>39.3692</td>\n",
       "    </tr>\n",
       "    <tr>\n",
       "      <th>1896</th>\n",
       "      <td>56.5232</td>\n",
       "      <td>67.2296</td>\n",
       "      <td>45.0950</td>\n",
       "    </tr>\n",
       "    <tr>\n",
       "      <th>1907</th>\n",
       "      <td>35.2364</td>\n",
       "      <td>46.2254</td>\n",
       "      <td>25.0394</td>\n",
       "    </tr>\n",
       "  </tbody>\n",
       "</table>\n",
       "<p>1494 rows × 3 columns</p>\n",
       "</div>"
      ],
      "text/plain": [
       "      LandAverageTemperature  LandMaxTemperature  LandMinTemperature\n",
       "Year                                                                \n",
       "1917                 47.3792             57.9668             36.7520\n",
       "1894                 41.7290             52.1366             31.1162\n",
       "1893                 42.6236             53.0618             31.7426\n",
       "1973                 39.0164             49.0928             29.0228\n",
       "1948                 38.2838             48.1658             28.3460\n",
       "...                      ...                 ...                 ...\n",
       "1919                 56.8148             67.6472             46.1156\n",
       "1951                 52.5884             63.2678             41.6768\n",
       "1987                 49.2620             59.2448             39.3692\n",
       "1896                 56.5232             67.2296             45.0950\n",
       "1907                 35.2364             46.2254             25.0394\n",
       "\n",
       "[1494 rows x 3 columns]"
      ]
     },
     "execution_count": 27,
     "metadata": {},
     "output_type": "execute_result"
    }
   ],
   "source": [
    "from sklearn.model_selection import train_test_split\n",
    "x_train,x_test,y_train,y_test=train_test_split(x,y,random_state=0,test_size=0.25)\n",
    "x_train"
   ]
  },
  {
   "cell_type": "code",
   "execution_count": 61,
   "id": "57c496d9",
   "metadata": {},
   "outputs": [
    {
     "data": {
      "text/plain": [
       "Year\n",
       "1917    58.8956\n",
       "1894    57.2648\n",
       "1893    57.3422\n",
       "1973    57.4520\n",
       "1948    56.3720\n",
       "         ...   \n",
       "1919    61.6964\n",
       "1951    61.0844\n",
       "1987    60.1178\n",
       "1896    62.1716\n",
       "1907    55.5944\n",
       "Name: LandAndOceanAverageTemperature, Length: 1494, dtype: float64"
      ]
     },
     "execution_count": 61,
     "metadata": {},
     "output_type": "execute_result"
    }
   ],
   "source": [
    "y_train"
   ]
  },
  {
   "cell_type": "code",
   "execution_count": 28,
   "id": "0d75054e",
   "metadata": {},
   "outputs": [
    {
     "data": {
      "text/plain": [
       "(498, 3)"
      ]
     },
     "execution_count": 28,
     "metadata": {},
     "output_type": "execute_result"
    }
   ],
   "source": [
    "x_test.shape"
   ]
  },
  {
   "cell_type": "code",
   "execution_count": 29,
   "id": "707c4fbd",
   "metadata": {},
   "outputs": [
    {
     "data": {
      "text/plain": [
       "(498,)"
      ]
     },
     "execution_count": 29,
     "metadata": {},
     "output_type": "execute_result"
    }
   ],
   "source": [
    "y_test.shape"
   ]
  },
  {
   "cell_type": "code",
   "execution_count": 30,
   "id": "8d931b0c",
   "metadata": {},
   "outputs": [
    {
     "data": {
      "text/plain": [
       "(1494, 3)"
      ]
     },
     "execution_count": 30,
     "metadata": {},
     "output_type": "execute_result"
    }
   ],
   "source": [
    "x_train.shape"
   ]
  },
  {
   "cell_type": "code",
   "execution_count": 31,
   "id": "16fd8b3d",
   "metadata": {},
   "outputs": [
    {
     "data": {
      "text/plain": [
       "(1494,)"
      ]
     },
     "execution_count": 31,
     "metadata": {},
     "output_type": "execute_result"
    }
   ],
   "source": [
    "y_train.shape"
   ]
  },
  {
   "cell_type": "code",
   "execution_count": 35,
   "id": "01caa7d1",
   "metadata": {},
   "outputs": [
    {
     "data": {
      "text/plain": [
       "array([ 0.22513036, -0.03526709,  0.10940252])"
      ]
     },
     "execution_count": 35,
     "metadata": {},
     "output_type": "execute_result"
    }
   ],
   "source": [
    "from sklearn.linear_model import LinearRegression\n",
    "regressor=LinearRegression()\n",
    "regressor.fit(x_train,y_train)\n",
    "regressor.coef_"
   ]
  },
  {
   "cell_type": "code",
   "execution_count": 36,
   "id": "9a8322e5",
   "metadata": {},
   "outputs": [
    {
     "data": {
      "text/plain": [
       "46.704605067825064"
      ]
     },
     "execution_count": 36,
     "metadata": {},
     "output_type": "execute_result"
    }
   ],
   "source": [
    "regressor.intercept_"
   ]
  },
  {
   "cell_type": "code",
   "execution_count": 37,
   "id": "60c7ca52",
   "metadata": {},
   "outputs": [
    {
     "data": {
      "text/plain": [
       "(498,)"
      ]
     },
     "execution_count": 37,
     "metadata": {},
     "output_type": "execute_result"
    }
   ],
   "source": [
    "y_train_pred=regressor.predict(x_train)\n",
    "y_test_pred=regressor.predict(x_test)\n",
    "y_test_pred.shape"
   ]
  },
  {
   "cell_type": "code",
   "execution_count": 1,
   "id": "7f8da93b",
   "metadata": {},
   "outputs": [
    {
     "ename": "NameError",
     "evalue": "name 'data' is not defined",
     "output_type": "error",
     "traceback": [
      "\u001b[1;31m---------------------------------------------------------------------------\u001b[0m",
      "\u001b[1;31mNameError\u001b[0m                                 Traceback (most recent call last)",
      "\u001b[1;32m<ipython-input-1-ac40a310b386>\u001b[0m in \u001b[0;36m<module>\u001b[1;34m\u001b[0m\n\u001b[1;32m----> 1\u001b[1;33m \u001b[0mr\u001b[0m\u001b[1;33m=\u001b[0m\u001b[0mdata\u001b[0m\u001b[1;33m.\u001b[0m\u001b[0mDataFrame\u001b[0m\u001b[1;33m(\u001b[0m\u001b[1;33m{\u001b[0m\u001b[1;34m'Actual'\u001b[0m\u001b[1;33m:\u001b[0m\u001b[0my_test\u001b[0m\u001b[1;33m,\u001b[0m \u001b[1;34m'predicted'\u001b[0m\u001b[1;33m:\u001b[0m\u001b[0my_test_pred\u001b[0m\u001b[1;33m}\u001b[0m\u001b[1;33m)\u001b[0m\u001b[1;33m\u001b[0m\u001b[1;33m\u001b[0m\u001b[0m\n\u001b[0m\u001b[0;32m      2\u001b[0m \u001b[0mr\u001b[0m\u001b[1;33m\u001b[0m\u001b[1;33m\u001b[0m\u001b[0m\n",
      "\u001b[1;31mNameError\u001b[0m: name 'data' is not defined"
     ]
    }
   ],
   "source": [
    "r=data.DataFrame({'Actual':y_test, 'predicted':y_test_pred})\n",
    "r"
   ]
  },
  {
   "cell_type": "code",
   "execution_count": 48,
   "id": "dc6130c9",
   "metadata": {},
   "outputs": [],
   "source": [
    "residual_error=abs(y_test-y_test_pred)"
   ]
  },
  {
   "cell_type": "code",
   "execution_count": 49,
   "id": "f2c450b3",
   "metadata": {},
   "outputs": [
    {
     "data": {
      "text/plain": [
       "Year\n",
       "2000    0.362119\n",
       "1959    0.319026\n",
       "1930    0.275128\n",
       "1858    0.472196\n",
       "1979    0.013262\n",
       "          ...   \n",
       "1976    0.045910\n",
       "1967    0.103605\n",
       "1984    0.187738\n",
       "1947    0.317170\n",
       "1899    0.304308\n",
       "Name: LandAndOceanAverageTemperature, Length: 498, dtype: float64"
      ]
     },
     "execution_count": 49,
     "metadata": {},
     "output_type": "execute_result"
    }
   ],
   "source": [
    "residual_error"
   ]
  },
  {
   "cell_type": "code",
   "execution_count": 50,
   "id": "a939412e",
   "metadata": {},
   "outputs": [
    {
     "data": {
      "text/plain": [
       "0.27488513937534675"
      ]
     },
     "execution_count": 50,
     "metadata": {},
     "output_type": "execute_result"
    }
   ],
   "source": [
    "mean_absolute_error=sum(residual_error/len(residual_error))\n",
    "mean_absolute_error"
   ]
  },
  {
   "cell_type": "code",
   "execution_count": 51,
   "id": "56a9870e",
   "metadata": {},
   "outputs": [
    {
     "data": {
      "text/plain": [
       "0.2748851393753469"
      ]
     },
     "execution_count": 51,
     "metadata": {},
     "output_type": "execute_result"
    }
   ],
   "source": [
    "from sklearn.metrics import mean_absolute_error,mean_absolute_percentage_error,r2_score\n",
    "\n",
    "mean_absolute_error(y_test,y_test_pred)"
   ]
  },
  {
   "cell_type": "code",
   "execution_count": 52,
   "id": "357c1fc0",
   "metadata": {},
   "outputs": [
    {
     "data": {
      "text/plain": [
       "0.004647414161629118"
      ]
     },
     "execution_count": 52,
     "metadata": {},
     "output_type": "execute_result"
    }
   ],
   "source": [
    "mean_absolute_percentage_error(y_test,y_test_pred)"
   ]
  },
  {
   "cell_type": "code",
   "execution_count": 58,
   "id": "ee373be6",
   "metadata": {},
   "outputs": [
    {
     "data": {
      "text/plain": [
       "0.9776068697702667"
      ]
     },
     "execution_count": 58,
     "metadata": {},
     "output_type": "execute_result"
    }
   ],
   "source": [
    "r2_score(y_test,y_test_pred)"
   ]
  },
  {
   "cell_type": "code",
   "execution_count": 60,
   "id": "c2093917",
   "metadata": {},
   "outputs": [
    {
     "data": {
      "text/plain": [
       "array([53.52007684])"
      ]
     },
     "execution_count": 60,
     "metadata": {},
     "output_type": "execute_result"
    }
   ],
   "source": [
    "new=[[23.44,44.23,28.32]]\n",
    "regressor.predict(new)"
   ]
  },
  {
   "cell_type": "code",
   "execution_count": 59,
   "id": "d07db7fe",
   "metadata": {},
   "outputs": [
    {
     "data": {
      "image/png": "[encoded data removed]",
      "text/plain": [
       "<Figure size 432x288 with 1 Axes>"
      ]
     },
     "metadata": {
      "needs_background": "light"
     },
     "output_type": "display_data"
    }
   ],
   "source": [
    "\n",
    "plt.scatter(y_train,y_train_pred,c='blue',marker='o',label=\"training data\")\n",
    "plt.scatter(y_test,y_test_pred,c='lightgreen',marker='s',label=\"test data\")\n",
    "plt.xlabel('true values')\n",
    "plt.ylabel('predicted values')\n",
    "plt.title('true value vs predicted values')\n",
    "plt.legend(loc='upper left')\n",
    "plt.plot()\n",
    "plt.show()"
   ]
  },
  {
   "cell_type": "code",
   "execution_count": null,
   "id": "8d1911c1",
   "metadata": {},
   "outputs": [],
   "source": []
  }
 ],
 "metadata": {
  "kernelspec": {
   "display_name": "Python 3",
   "language": "python",
   "name": "python3"
  },
  "language_info": {
   "codemirror_mode": {
    "name": "ipython",
    "version": 3
   },
   "file_extension": ".py",
   "mimetype": "text/x-python",
   "name": "python",
   "nbconvert_exporter": "python",
   "pygments_lexer": "ipython3",
   "version": "3.8.8"
  }
 },
 "nbformat": 4,
 "nbformat_minor": 5
}
